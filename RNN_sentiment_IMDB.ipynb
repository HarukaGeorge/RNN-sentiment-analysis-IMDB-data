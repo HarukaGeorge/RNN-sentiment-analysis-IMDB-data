{
 "cells": [
  {
   "cell_type": "markdown",
   "metadata": {},
   "source": [
    "## Using RNNs to classify sentiment on IMDB data\n",
    "\n",
    "In this assignment,you will train three types of RNNs:  \"vanilla\" RNN, LSTM and GRU to predict the sentiment on IMDB reviews.  \n",
    "\n",
    "Keras provides a convenient interface to load the data and immediately encode the words into integers (based on the most common words). \n",
    "This will save you a lot of the drudgery that is usually involved when working with raw text.\n",
    "\n",
    "The IMDB is  data consists of 25000 training sequences and 25000 test sequences. \n",
    "The outcome is binary (positive/negative) and both outcomes are equally represented in both the training and the test set.\n",
    "\n",
    "\n",
    "Walk through the followinng steps to prepare the data and the building of an RNN model. "
   ]
  },
  {
   "cell_type": "code",
   "execution_count": 1,
   "metadata": {},
   "outputs": [],
   "source": [
    "from keras.datasets import imdb\n",
    "import tensorflow as tf\n",
    "from tensorflow.keras.preprocessing import sequence\n",
    "from keras.layers.recurrent import SimpleRNN\n",
    "import pandas as pd\n",
    "import numpy as np\n",
    "from tensorflow.keras.models import Sequential\n",
    "from tensorflow.keras.layers import Dense, LSTM, GRU, Bidirectional\n",
    "from tensorflow.keras.optimizers import RMSprop\n",
    "from keras.layers.embeddings import Embedding\n",
    "from tensorflow.keras import initializers\n",
    "from sklearn.preprocessing import MinMaxScaler\n",
    "from sklearn.metrics import mean_squared_error\n",
    "import math\n",
    "import matplotlib.pyplot as plt"
   ]
  },
  {
   "cell_type": "markdown",
   "metadata": {},
   "source": [
    "1- Use the `imdb.load_data()` to load in the data \n",
    "\n",
    "2- Specify the maximum length of a sequence to 20000 words and the pick the most common words to 30. "
   ]
  },
  {
   "cell_type": "code",
   "execution_count": 2,
   "metadata": {},
   "outputs": [],
   "source": [
    "# number of words to consider as features\n",
    "max_features = 20000 \n",
    "# Maximum sequence length. Any longer sequence will be truncated.\n",
    "max_len = 30\n",
    "\n",
    "(x_train, y_train), (x_test, y_test) = imdb.load_data(num_words=max_features, seed=12)"
   ]
  },
  {
   "cell_type": "markdown",
   "metadata": {},
   "source": [
    "3- Check that the number of sequences in train and test datasets are equal (default split):\n",
    "    \n",
    "Expected output:\n",
    "- `x_train = 25000 train sequences`\n",
    "\n",
    "- `x_test = 25000 test sequences`"
   ]
  },
  {
   "cell_type": "code",
   "execution_count": 3,
   "metadata": {},
   "outputs": [
    {
     "name": "stdout",
     "output_type": "stream",
     "text": [
      "25000 train sequences\n",
      "25000 test sequences\n"
     ]
    }
   ],
   "source": [
    "print(len(x_train), 'train sequences')\n",
    "print(len(x_test), 'test sequences')"
   ]
  },
  {
   "cell_type": "markdown",
   "metadata": {},
   "source": [
    "4- Pad (or truncate) the sequences so that they are of the maximum length"
   ]
  },
  {
   "cell_type": "code",
   "execution_count": 4,
   "metadata": {},
   "outputs": [],
   "source": [
    "# Padding or truncating the sequences\n",
    "x_train = sequence.pad_sequences(x_train, maxlen=max_len)\n",
    "x_test = sequence.pad_sequences(x_test, maxlen=max_len)"
   ]
  },
  {
   "cell_type": "markdown",
   "metadata": {},
   "source": [
    "5- After padding or truncating, check the dimensionality of x_train and x_test.\n",
    "\n",
    "Expected output:\n",
    "- `x_train shape: (25000, 30)`\n",
    "- `x_test shape: (25000, 30)`"
   ]
  },
  {
   "cell_type": "code",
   "execution_count": 5,
   "metadata": {},
   "outputs": [
    {
     "name": "stdout",
     "output_type": "stream",
     "text": [
      "x_train shape: (25000, 30)\n",
      "x_test shape: (25000, 30)\n"
     ]
    }
   ],
   "source": [
    "print('x_train shape:', x_train.shape)\n",
    "print('x_test shape:', x_test.shape)"
   ]
  },
  {
   "cell_type": "code",
   "execution_count": null,
   "metadata": {},
   "outputs": [],
   "source": []
  },
  {
   "cell_type": "markdown",
   "metadata": {},
   "source": [
    "## Keras layers for (Vanilla) RNNs\n",
    "\n",
    "In this step, you will not use pre-trained word vectors, Instead you will learn an embedding as part of the  the Vanilla) RNNs network  Neural Network. \n",
    "\n",
    "In the Keras API documentation, the Embedding Layer and the SimpleRNN Layer have the following syntax:\n",
    "\n",
    "### Embedding Layer\n",
    "`keras.layers.embeddings.Embedding(input_dim, output_dim, embeddings_initializer='uniform', embeddings_regularizer=None, activity_regularizer=None, embeddings_constraint=None, mask_zero=False, input_length=None)`\n",
    "\n",
    "- This layer maps each integer into a distinct (dense) word vector of length `output_dim`.\n",
    "- Can think of this as learning a word vector embedding \"on the fly\" rather than using an existing mapping (like GloVe)\n",
    "- The `input_dim` should be the size of the vocabulary.\n",
    "- The `input_length` specifies the length of the sequences that the network expects.\n",
    "\n",
    "### SimpleRNN Layer\n",
    "`keras.layers.recurrent.SimpleRNN(units, activation='tanh', use_bias=True, kernel_initializer='glorot_uniform', recurrent_initializer='orthogonal', bias_initializer='zeros', kernel_regularizer=None, recurrent_regularizer=None, bias_regularizer=None, activity_regularizer=None, kernel_constraint=None, recurrent_constraint=None, bias_constraint=None, dropout=0.0, recurrent_dropout=0.0)`\n",
    "\n",
    "- This is the basic RNN, where the output is also fed back as the \"hidden state\" to the next iteration.\n",
    "- The parameter `units` gives the dimensionality of the output (and therefore the hidden state).  Note that typically there will be another layer after the RNN mapping the (RNN) output to the network output.  So we should think of this value as the desired dimensionality of the hidden state and not necessarily the desired output of the network.\n",
    "- Recall that there are two sets of weights, one for the \"recurrent\" phase and the other for the \"kernel\" phase.  These can be configured separately in terms of their initialization, regularization, etc.\n",
    "\n",
    "\n",
    "\n",
    "\n"
   ]
  },
  {
   "cell_type": "markdown",
   "metadata": {},
   "source": [
    "6- Build the RNN with three layers: \n",
    "- The SimpleRNN layer with 5 neurons and initialize its kernel with stddev=0.001\n",
    "\n",
    "- The Embedding layer and initialize it by setting the word embedding dimension to 50. This means that this layer takes each integer in the sequence and embeds it in a 50-dimensional vector.\n",
    "\n",
    "-  The output layer has the sigmoid activation function."
   ]
  },
  {
   "cell_type": "code",
   "execution_count": 6,
   "metadata": {},
   "outputs": [
    {
     "name": "stderr",
     "output_type": "stream",
     "text": [
      "2022-02-20 13:05:52.298678: I tensorflow/core/platform/cpu_feature_guard.cc:151] This TensorFlow binary is optimized with oneAPI Deep Neural Network Library (oneDNN) to use the following CPU instructions in performance-critical operations:  AVX2 FMA\n",
      "To enable them in other operations, rebuild TensorFlow with the appropriate compiler flags.\n"
     ]
    }
   ],
   "source": [
    "\n",
    "\n",
    "tf.random.set_seed(123)\n",
    "\n",
    "model = Sequential()\n",
    "\n",
    "# Add an Embedding layer expecting input vocab of size 20000, and\n",
    "# output embedding dimension of size 50.\n",
    "model.add(Embedding(input_dim=20000, output_dim=50))\n",
    "model.add(SimpleRNN(5, kernel_initializer=initializers.RandomNormal(stddev=0.001)))\n",
    "model.add(Dense(1, activation='sigmoid'))\n"
   ]
  },
  {
   "cell_type": "markdown",
   "metadata": {},
   "source": [
    "7- How many parameters have the embedding layer?"
   ]
  },
  {
   "cell_type": "code",
   "execution_count": 7,
   "metadata": {},
   "outputs": [
    {
     "name": "stdout",
     "output_type": "stream",
     "text": [
      "Model: \"sequential\"\n",
      "_________________________________________________________________\n",
      " Layer (type)                Output Shape              Param #   \n",
      "=================================================================\n",
      " embedding (Embedding)       (None, None, 50)          1000000   \n",
      "                                                                 \n",
      " simple_rnn (SimpleRNN)      (None, 5)                 280       \n",
      "                                                                 \n",
      " dense (Dense)               (None, 1)                 6         \n",
      "                                                                 \n",
      "=================================================================\n",
      "Total params: 1,000,286\n",
      "Trainable params: 1,000,286\n",
      "Non-trainable params: 0\n",
      "_________________________________________________________________\n"
     ]
    }
   ],
   "source": [
    "model.summary()"
   ]
  },
  {
   "cell_type": "markdown",
   "metadata": {},
   "source": [
    "The embedding layer has 1000000 Parameters"
   ]
  },
  {
   "cell_type": "markdown",
   "metadata": {},
   "source": [
    "8- Train the network with the RMSprop with learning rate of .0001 and epochs=10."
   ]
  },
  {
   "cell_type": "code",
   "execution_count": 8,
   "metadata": {},
   "outputs": [
    {
     "name": "stdout",
     "output_type": "stream",
     "text": [
      "Epoch 1/10\n",
      "157/157 [==============================] - 10s 43ms/step - loss: 0.2490 - acc: 0.5767 - val_loss: 0.2463 - val_acc: 0.6678\n",
      "Epoch 2/10\n",
      "157/157 [==============================] - 6s 35ms/step - loss: 0.2391 - acc: 0.6737 - val_loss: 0.2322 - val_acc: 0.6770\n",
      "Epoch 3/10\n",
      "157/157 [==============================] - 6s 38ms/step - loss: 0.2246 - acc: 0.6896 - val_loss: 0.2229 - val_acc: 0.6758\n",
      "Epoch 4/10\n",
      "157/157 [==============================] - 6s 37ms/step - loss: 0.2144 - acc: 0.7090 - val_loss: 0.2188 - val_acc: 0.6764\n",
      "Epoch 5/10\n",
      "157/157 [==============================] - 6s 36ms/step - loss: 0.2061 - acc: 0.7298 - val_loss: 0.2161 - val_acc: 0.6806\n",
      "Epoch 6/10\n",
      "157/157 [==============================] - 6s 37ms/step - loss: 0.1986 - acc: 0.7450 - val_loss: 0.2134 - val_acc: 0.6804\n",
      "Epoch 7/10\n",
      "157/157 [==============================] - 6s 36ms/step - loss: 0.1914 - acc: 0.7612 - val_loss: 0.2113 - val_acc: 0.6832\n",
      "Epoch 8/10\n",
      "157/157 [==============================] - 6s 36ms/step - loss: 0.1846 - acc: 0.7715 - val_loss: 0.2093 - val_acc: 0.6834\n",
      "Epoch 9/10\n",
      "157/157 [==============================] - 6s 37ms/step - loss: 0.1779 - acc: 0.7814 - val_loss: 0.2080 - val_acc: 0.6838\n",
      "Epoch 10/10\n",
      "157/157 [==============================] - 6s 36ms/step - loss: 0.1716 - acc: 0.7913 - val_loss: 0.2062 - val_acc: 0.6876\n"
     ]
    }
   ],
   "source": [
    "# compiling model\n",
    "model.compile(loss='mean_squared_error', optimizer=RMSprop(learning_rate=1e-4), metrics=['acc'])\n",
    "\n",
    "history = model.fit(x_train, y_train,\n",
    "                    epochs=10,\n",
    "                    batch_size=128,\n",
    "                    validation_split=0.2, \n",
    "                   verbose=1)"
   ]
  },
  {
   "cell_type": "code",
   "execution_count": null,
   "metadata": {},
   "outputs": [],
   "source": []
  },
  {
   "cell_type": "markdown",
   "metadata": {},
   "source": [
    "9- PLot the loss and accuracy metrics during the training and interpret the result."
   ]
  },
  {
   "cell_type": "code",
   "execution_count": 9,
   "metadata": {},
   "outputs": [
    {
     "data": {
      "image/png": "[encoded data removed]",
      "text/plain": [
       "<Figure size 432x288 with 1 Axes>"
      ]
     },
     "metadata": {
      "needs_background": "light"
     },
     "output_type": "display_data"
    },
    {
     "data": {
      "image/png": "[encoded data removed]",
      "text/plain": [
       "<Figure size 432x288 with 1 Axes>"
      ]
     },
     "metadata": {
      "needs_background": "light"
     },
     "output_type": "display_data"
    }
   ],
   "source": [
    "acc = history.history['acc']\n",
    "val_acc = history.history['val_acc']\n",
    "loss = history.history['loss']\n",
    "val_loss = history.history['val_loss']\n",
    "\n",
    "epochs = range(len(acc))\n",
    "\n",
    "plt.plot(epochs, acc, 'bo', label='Training acc')\n",
    "plt.plot(epochs, val_acc, 'b', label='Validation acc')\n",
    "plt.title('Training and validation accuracy')\n",
    "plt.legend()\n",
    "\n",
    "plt.figure()\n",
    "\n",
    "plt.plot(epochs, loss, 'bo', label='Training loss')\n",
    "plt.plot(epochs, val_loss, 'b', label='Validation loss')\n",
    "plt.title('Training and validation loss')\n",
    "plt.legend()\n",
    "\n",
    "plt.show()"
   ]
  },
  {
   "cell_type": "markdown",
   "metadata": {},
   "source": [
    "From the above graphs we can clearly see that the model is overfitting. The Accuracy of the train set keeps increasing while this is not reflected in the validation set. As the number of epochs increases the difference in accuracy of train and validation also increases. Similarly, the loss keeps decreasing for train set but it plateaus for validation set after few epochs. "
   ]
  },
  {
   "cell_type": "markdown",
   "metadata": {},
   "source": [
    "10- Check the accuracy and the loss of your models on the test dataset."
   ]
  },
  {
   "cell_type": "code",
   "execution_count": 10,
   "metadata": {},
   "outputs": [
    {
     "data": {
      "text/plain": [
       "['loss', 'acc']"
      ]
     },
     "execution_count": 10,
     "metadata": {},
     "output_type": "execute_result"
    }
   ],
   "source": [
    "model.metrics_names"
   ]
  },
  {
   "cell_type": "code",
   "execution_count": 11,
   "metadata": {},
   "outputs": [
    {
     "name": "stdout",
     "output_type": "stream",
     "text": [
      "acc: 68.66%\n",
      "loss: 0.21\n"
     ]
    }
   ],
   "source": [
    "#Evaluating model performance on test data \n",
    "scores = model.evaluate(x_test, y_test, verbose=0)\n",
    "print(\"%s: %.2f%%\" % (model.metrics_names[1], scores[1]*100))\n",
    "print(\"{}: {}\".format(model.metrics_names[0], round(scores[0], 2)))"
   ]
  },
  {
   "cell_type": "markdown",
   "metadata": {},
   "source": [
    "## Tuning The Vanilla RNN Network\n"
   ]
  },
  {
   "cell_type": "markdown",
   "metadata": {},
   "source": [
    "11- Prepare the data to use sequences of length 80 rather than length 30 and retrain your model.  Did it improve the performance?"
   ]
  },
  {
   "cell_type": "code",
   "execution_count": 12,
   "metadata": {},
   "outputs": [
    {
     "name": "stdout",
     "output_type": "stream",
     "text": [
      "Epoch 1/10\n",
      "157/157 [==============================] - 16s 80ms/step - loss: 0.2482 - acc: 0.5613 - val_loss: 0.2413 - val_acc: 0.6568\n",
      "Epoch 2/10\n",
      "157/157 [==============================] - 7s 42ms/step - loss: 0.2335 - acc: 0.6712 - val_loss: 0.2298 - val_acc: 0.6726\n",
      "Epoch 3/10\n",
      "157/157 [==============================] - 5s 34ms/step - loss: 0.2221 - acc: 0.7082 - val_loss: 0.2212 - val_acc: 0.7054\n",
      "Epoch 4/10\n",
      "157/157 [==============================] - 5s 33ms/step - loss: 0.2125 - acc: 0.7390 - val_loss: 0.2180 - val_acc: 0.6982\n",
      "Epoch 5/10\n",
      "157/157 [==============================] - 5s 33ms/step - loss: 0.2036 - acc: 0.7605 - val_loss: 0.2177 - val_acc: 0.6892\n",
      "Epoch 6/10\n",
      "157/157 [==============================] - 5s 33ms/step - loss: 0.1954 - acc: 0.7744 - val_loss: 0.2074 - val_acc: 0.7186\n",
      "Epoch 7/10\n",
      "157/157 [==============================] - 5s 33ms/step - loss: 0.1873 - acc: 0.7875 - val_loss: 0.2050 - val_acc: 0.7162\n",
      "Epoch 8/10\n",
      "157/157 [==============================] - 5s 34ms/step - loss: 0.1791 - acc: 0.8011 - val_loss: 0.2016 - val_acc: 0.7212\n",
      "Epoch 9/10\n",
      "157/157 [==============================] - 5s 32ms/step - loss: 0.1704 - acc: 0.8139 - val_loss: 0.1982 - val_acc: 0.7254\n",
      "Epoch 10/10\n",
      "157/157 [==============================] - 5s 33ms/step - loss: 0.1629 - acc: 0.8220 - val_loss: 0.1985 - val_acc: 0.7170\n"
     ]
    }
   ],
   "source": [
    "#Changing max length to 80 and checking accuracy \n",
    "max_len = 80\n",
    "\n",
    "(x_train, y_train), (x_test, y_test) = imdb.load_data(num_words=max_features, seed=12)\n",
    "# Padding or truncating the sequences\n",
    "x_train = sequence.pad_sequences(x_train, maxlen=max_len)\n",
    "x_test = sequence.pad_sequences(x_test, maxlen=max_len)\n",
    "\n",
    "model = Sequential()\n",
    "\n",
    "# Add an Embedding layer expecting input vocab of size 1000, and\n",
    "# output embedding dimension of size 50.\n",
    "model.add(Embedding(input_dim=max_features, output_dim=50))\n",
    "model.add(SimpleRNN(5, kernel_initializer=initializers.RandomNormal(stddev=0.001)))\n",
    "model.add(Dense(1, activation='sigmoid'))\n",
    "\n",
    "# compiling model\n",
    "model.compile(loss='mean_squared_error', optimizer=RMSprop(learning_rate=1e-4), metrics=['acc'])\n",
    "\n",
    "history = model.fit(x_train, y_train,\n",
    "                    epochs=10,\n",
    "                    batch_size=128,\n",
    "                    validation_split=0.2, \n",
    "                   verbose=1)"
   ]
  },
  {
   "cell_type": "code",
   "execution_count": 13,
   "metadata": {},
   "outputs": [
    {
     "data": {
      "image/png": "[encoded data removed]",
      "text/plain": [
       "<Figure size 432x288 with 1 Axes>"
      ]
     },
     "metadata": {
      "needs_background": "light"
     },
     "output_type": "display_data"
    },
    {
     "data": {
      "image/png": "[encoded data removed]",
      "text/plain": [
       "<Figure size 432x288 with 1 Axes>"
      ]
     },
     "metadata": {
      "needs_background": "light"
     },
     "output_type": "display_data"
    }
   ],
   "source": [
    "acc = history.history['acc']\n",
    "val_acc = history.history['val_acc']\n",
    "loss = history.history['loss']\n",
    "val_loss = history.history['val_loss']\n",
    "\n",
    "epochs = range(len(acc))\n",
    "\n",
    "plt.plot(epochs, acc, 'bo', label='Training acc')\n",
    "plt.plot(epochs, val_acc, 'b', label='Validation acc')\n",
    "plt.title('Training and validation accuracy')\n",
    "plt.legend()\n",
    "\n",
    "plt.figure()\n",
    "\n",
    "plt.plot(epochs, loss, 'bo', label='Training loss')\n",
    "plt.plot(epochs, val_loss, 'b', label='Validation loss')\n",
    "plt.title('Training and validation loss')\n",
    "plt.legend()\n",
    "\n",
    "plt.show()"
   ]
  },
  {
   "cell_type": "code",
   "execution_count": 14,
   "metadata": {},
   "outputs": [
    {
     "name": "stdout",
     "output_type": "stream",
     "text": [
      "acc: 69.81%\n",
      "loss: 0.21\n"
     ]
    }
   ],
   "source": [
    "#Evaluating model performance on test data \n",
    "scores = model.evaluate(x_test, y_test, verbose=0)\n",
    "print(\"%s: %.2f%%\" % (model.metrics_names[1], scores[1]*100))\n",
    "print(\"{}: {}\".format(model.metrics_names[0], round(scores[0], 2)))"
   ]
  },
  {
   "cell_type": "markdown",
   "metadata": {},
   "source": [
    "We observe that the model is slightly better than the last model but there still appears to be overfitting."
   ]
  },
  {
   "cell_type": "markdown",
   "metadata": {},
   "source": [
    "12- Try different values of the  maximum length of a sequence (\"max_features\").  Can you improve the performance?"
   ]
  },
  {
   "cell_type": "code",
   "execution_count": 15,
   "metadata": {},
   "outputs": [
    {
     "name": "stdout",
     "output_type": "stream",
     "text": [
      "Epoch 1/10\n",
      "157/157 [==============================] - 7s 32ms/step - loss: 0.2488 - acc: 0.5673 - val_loss: 0.2451 - val_acc: 0.6710\n",
      "Epoch 2/10\n",
      "157/157 [==============================] - 5s 30ms/step - loss: 0.2392 - acc: 0.6973 - val_loss: 0.2346 - val_acc: 0.7030\n",
      "Epoch 3/10\n",
      "157/157 [==============================] - 5s 30ms/step - loss: 0.2302 - acc: 0.7308 - val_loss: 0.2325 - val_acc: 0.6880\n",
      "Epoch 4/10\n",
      "157/157 [==============================] - 5s 30ms/step - loss: 0.2245 - acc: 0.7484 - val_loss: 0.2276 - val_acc: 0.7100\n",
      "Epoch 5/10\n",
      "157/157 [==============================] - 5s 30ms/step - loss: 0.2195 - acc: 0.7636 - val_loss: 0.2255 - val_acc: 0.7132\n",
      "Epoch 6/10\n",
      "157/157 [==============================] - 5s 30ms/step - loss: 0.2151 - acc: 0.7714 - val_loss: 0.2246 - val_acc: 0.7082\n",
      "Epoch 7/10\n",
      "157/157 [==============================] - 5s 30ms/step - loss: 0.2105 - acc: 0.7788 - val_loss: 0.2212 - val_acc: 0.7260\n",
      "Epoch 8/10\n",
      "157/157 [==============================] - 5s 31ms/step - loss: 0.2049 - acc: 0.7882 - val_loss: 0.2237 - val_acc: 0.7000\n",
      "Epoch 9/10\n",
      "157/157 [==============================] - 5s 30ms/step - loss: 0.1993 - acc: 0.7921 - val_loss: 0.2204 - val_acc: 0.7092\n",
      "Epoch 10/10\n",
      "157/157 [==============================] - 5s 30ms/step - loss: 0.1937 - acc: 0.7932 - val_loss: 0.2197 - val_acc: 0.6996\n"
     ]
    }
   ],
   "source": [
    "#Changing max features to 10000 and checking accuracy \n",
    "max_features = 10000\n",
    "\n",
    "(x_train, y_train), (x_test, y_test) = imdb.load_data(num_words=max_features, seed=12)\n",
    "# Padding or truncating the sequences\n",
    "x_train = sequence.pad_sequences(x_train, maxlen=max_len)\n",
    "x_test = sequence.pad_sequences(x_test, maxlen=max_len)\n",
    "\n",
    "model = Sequential()\n",
    "\n",
    "# Add an Embedding layer expecting input vocab of size 1000, and\n",
    "# output embedding dimension of size 50.\n",
    "model.add(Embedding(input_dim=max_features, output_dim=50))\n",
    "model.add(SimpleRNN(5, kernel_initializer=initializers.RandomNormal(stddev=0.001)))\n",
    "model.add(Dense(1, activation='sigmoid'))\n",
    "\n",
    "# compiling model\n",
    "model.compile(loss='mean_squared_error', optimizer=RMSprop(learning_rate=1e-4), metrics=['acc'])\n",
    "\n",
    "history = model.fit(x_train, y_train,\n",
    "                    epochs=10,\n",
    "                    batch_size=128,\n",
    "                    validation_split=0.2, \n",
    "                   verbose=1)\n"
   ]
  },
  {
   "cell_type": "code",
   "execution_count": 16,
   "metadata": {},
   "outputs": [
    {
     "data": {
      "image/png": "[encoded data removed]",
      "text/plain": [
       "<Figure size 432x288 with 1 Axes>"
      ]
     },
     "metadata": {
      "needs_background": "light"
     },
     "output_type": "display_data"
    },
    {
     "data": {
      "image/png": "[encoded data removed]",
      "text/plain": [
       "<Figure size 432x288 with 1 Axes>"
      ]
     },
     "metadata": {
      "needs_background": "light"
     },
     "output_type": "display_data"
    }
   ],
   "source": [
    "acc = history.history['acc']\n",
    "val_acc = history.history['val_acc']\n",
    "loss = history.history['loss']\n",
    "val_loss = history.history['val_loss']\n",
    "\n",
    "epochs = range(len(acc))\n",
    "\n",
    "plt.plot(epochs, acc, 'bo', label='Training acc')\n",
    "plt.plot(epochs, val_acc, 'b', label='Validation acc')\n",
    "plt.title('Training and validation accuracy')\n",
    "plt.legend()\n",
    "\n",
    "plt.figure()\n",
    "\n",
    "plt.plot(epochs, loss, 'bo', label='Training loss')\n",
    "plt.plot(epochs, val_loss, 'b', label='Validation loss')\n",
    "plt.title('Training and validation loss')\n",
    "plt.legend()\n",
    "\n",
    "plt.show()"
   ]
  },
  {
   "cell_type": "code",
   "execution_count": 17,
   "metadata": {},
   "outputs": [
    {
     "name": "stdout",
     "output_type": "stream",
     "text": [
      "acc: 68.22%\n",
      "loss: 0.22\n"
     ]
    }
   ],
   "source": [
    "#Evaluating model performance on test data \n",
    "scores = model.evaluate(x_test, y_test, verbose=0)\n",
    "print(\"%s: %.2f%%\" % (model.metrics_names[1], scores[1]*100))\n",
    "print(\"{}: {}\".format(model.metrics_names[0], round(scores[0], 2)))"
   ]
  },
  {
   "cell_type": "markdown",
   "metadata": {},
   "source": [
    "There is no considerable change in the accuracy of model and, there is still overfitting."
   ]
  },
  {
   "cell_type": "code",
   "execution_count": 18,
   "metadata": {},
   "outputs": [
    {
     "name": "stdout",
     "output_type": "stream",
     "text": [
      "Epoch 1/10\n",
      "157/157 [==============================] - 7s 36ms/step - loss: 0.2473 - acc: 0.5804 - val_loss: 0.2396 - val_acc: 0.6844\n",
      "Epoch 2/10\n",
      "157/157 [==============================] - 5s 33ms/step - loss: 0.2330 - acc: 0.6999 - val_loss: 0.2290 - val_acc: 0.7080\n",
      "Epoch 3/10\n",
      "157/157 [==============================] - 5s 33ms/step - loss: 0.2243 - acc: 0.7342 - val_loss: 0.2306 - val_acc: 0.6714\n",
      "Epoch 4/10\n",
      "157/157 [==============================] - 5s 32ms/step - loss: 0.2181 - acc: 0.7579 - val_loss: 0.2220 - val_acc: 0.7200\n",
      "Epoch 5/10\n",
      "157/157 [==============================] - 5s 32ms/step - loss: 0.2122 - acc: 0.7749 - val_loss: 0.2220 - val_acc: 0.7044\n",
      "Epoch 6/10\n",
      "157/157 [==============================] - 5s 33ms/step - loss: 0.2061 - acc: 0.7864 - val_loss: 0.2165 - val_acc: 0.7226\n",
      "Epoch 7/10\n",
      "157/157 [==============================] - 5s 33ms/step - loss: 0.2002 - acc: 0.7987 - val_loss: 0.2160 - val_acc: 0.7094\n",
      "Epoch 8/10\n",
      "157/157 [==============================] - 5s 34ms/step - loss: 0.1941 - acc: 0.8068 - val_loss: 0.2093 - val_acc: 0.7296\n",
      "Epoch 9/10\n",
      "157/157 [==============================] - 5s 33ms/step - loss: 0.1869 - acc: 0.8200 - val_loss: 0.2076 - val_acc: 0.7250\n",
      "Epoch 10/10\n",
      "157/157 [==============================] - 5s 33ms/step - loss: 0.1809 - acc: 0.8249 - val_loss: 0.2049 - val_acc: 0.7264\n"
     ]
    }
   ],
   "source": [
    "#Changing max features to 30000 and checking accuracy \n",
    "max_features = 30000\n",
    "\n",
    "(x_train, y_train), (x_test, y_test) = imdb.load_data(num_words=max_features, seed=12)\n",
    "# Padding or truncating the sequences\n",
    "x_train = sequence.pad_sequences(x_train, maxlen=max_len)\n",
    "x_test = sequence.pad_sequences(x_test, maxlen=max_len)\n",
    "\n",
    "model = Sequential()\n",
    "\n",
    "\n",
    "# output embedding dimension of size 50.\n",
    "model.add(Embedding(input_dim=max_features, output_dim=50))\n",
    "model.add(SimpleRNN(5, kernel_initializer=initializers.RandomNormal(stddev=0.001)))\n",
    "model.add(Dense(1, activation='sigmoid'))\n",
    "\n",
    "# compiling model\n",
    "model.compile(loss='mean_squared_error', optimizer=RMSprop(learning_rate=1e-4), metrics=['acc'])\n",
    "\n",
    "history = model.fit(x_train, y_train,\n",
    "                    epochs=10,\n",
    "                    batch_size=128,\n",
    "                    validation_split=0.2, \n",
    "                   verbose=1)"
   ]
  },
  {
   "cell_type": "code",
   "execution_count": 19,
   "metadata": {},
   "outputs": [
    {
     "data": {
      "image/png": "[encoded data removed]",
      "text/plain": [
       "<Figure size 432x288 with 1 Axes>"
      ]
     },
     "metadata": {
      "needs_background": "light"
     },
     "output_type": "display_data"
    },
    {
     "data": {
      "image/png": "[encoded data removed]",
      "text/plain": [
       "<Figure size 432x288 with 1 Axes>"
      ]
     },
     "metadata": {
      "needs_background": "light"
     },
     "output_type": "display_data"
    }
   ],
   "source": [
    "acc = history.history['acc']\n",
    "val_acc = history.history['val_acc']\n",
    "loss = history.history['loss']\n",
    "val_loss = history.history['val_loss']\n",
    "\n",
    "epochs = range(len(acc))\n",
    "\n",
    "plt.plot(epochs, acc, 'bo', label='Training acc')\n",
    "plt.plot(epochs, val_acc, 'b', label='Validation acc')\n",
    "plt.title('Training and validation accuracy')\n",
    "plt.legend()\n",
    "\n",
    "plt.figure()\n",
    "\n",
    "plt.plot(epochs, loss, 'bo', label='Training loss')\n",
    "plt.plot(epochs, val_loss, 'b', label='Validation loss')\n",
    "plt.title('Training and validation loss')\n",
    "plt.legend()\n",
    "\n",
    "plt.show()"
   ]
  },
  {
   "cell_type": "code",
   "execution_count": 20,
   "metadata": {},
   "outputs": [
    {
     "name": "stdout",
     "output_type": "stream",
     "text": [
      "acc: 70.59%\n",
      "loss: 0.21\n"
     ]
    }
   ],
   "source": [
    "#Evaluating model performance on test data \n",
    "scores = model.evaluate(x_test, y_test, verbose=0)\n",
    "print(\"%s: %.2f%%\" % (model.metrics_names[1], scores[1]*100))\n",
    "print(\"{}: {}\".format(model.metrics_names[0], round(scores[0], 2)))"
   ]
  },
  {
   "cell_type": "markdown",
   "metadata": {},
   "source": [
    "Increasing the max features to 30000 increases the accuracy slightly but there is still overfitting. "
   ]
  },
  {
   "cell_type": "markdown",
   "metadata": {},
   "source": [
    "13- Try smaller and larger sizes of the RNN hidden dimension.  How does it affect the model performance?  How does it affect the run time?"
   ]
  },
  {
   "cell_type": "code",
   "execution_count": 21,
   "metadata": {},
   "outputs": [
    {
     "name": "stderr",
     "output_type": "stream",
     "text": [
      "/Users/harukageorge/opt/anaconda3/lib/python3.9/site-packages/keras/optimizer_v2/rmsprop.py:130: UserWarning: The `lr` argument is deprecated, use `learning_rate` instead.\n",
      "  super(RMSprop, self).__init__(name, **kwargs)\n"
     ]
    },
    {
     "name": "stdout",
     "output_type": "stream",
     "text": [
      "Epoch 1/10\n",
      "157/157 [==============================] - 7s 35ms/step - loss: 0.2500 - acc: 0.5041 - val_loss: 0.2500 - val_acc: 0.5100\n",
      "Epoch 2/10\n",
      "157/157 [==============================] - 5s 32ms/step - loss: 0.2496 - acc: 0.5429 - val_loss: 0.2498 - val_acc: 0.5172\n",
      "Epoch 3/10\n",
      "157/157 [==============================] - 5s 31ms/step - loss: 0.2471 - acc: 0.5717 - val_loss: 0.2500 - val_acc: 0.5144\n",
      "Epoch 4/10\n",
      "157/157 [==============================] - 5s 32ms/step - loss: 0.2396 - acc: 0.5940 - val_loss: 0.2527 - val_acc: 0.5154\n",
      "Epoch 5/10\n",
      "157/157 [==============================] - 5s 32ms/step - loss: 0.2300 - acc: 0.6291 - val_loss: 0.2569 - val_acc: 0.5162\n",
      "Epoch 6/10\n",
      "157/157 [==============================] - 5s 32ms/step - loss: 0.2201 - acc: 0.6622 - val_loss: 0.2601 - val_acc: 0.5200\n",
      "Epoch 7/10\n",
      "157/157 [==============================] - 5s 31ms/step - loss: 0.2105 - acc: 0.6923 - val_loss: 0.2632 - val_acc: 0.5176\n",
      "Epoch 8/10\n",
      "157/157 [==============================] - 5s 32ms/step - loss: 0.2015 - acc: 0.7156 - val_loss: 0.2657 - val_acc: 0.5182\n",
      "Epoch 9/10\n",
      "157/157 [==============================] - 5s 32ms/step - loss: 0.1932 - acc: 0.7374 - val_loss: 0.2676 - val_acc: 0.5142\n",
      "Epoch 10/10\n",
      "157/157 [==============================] - 5s 30ms/step - loss: 0.1863 - acc: 0.7516 - val_loss: 0.2699 - val_acc: 0.5148\n"
     ]
    }
   ],
   "source": [
    "#Changing RNN hidden dimension to 3 \n",
    "max_features = 20000\n",
    "\n",
    "(x_train, y_train), (x_test, y_test) = imdb.load_data(num_words=max_features, seed=12)\n",
    "# Padding or truncating the sequences\n",
    "x_train = sequence.pad_sequences(x_train, maxlen=max_len)\n",
    "x_test = sequence.pad_sequences(x_test, maxlen=max_len)\n",
    "\n",
    "model = Sequential()\n",
    "\n",
    "\n",
    "# output embedding dimension of size 50.\n",
    "model.add(Embedding(input_dim=max_features, output_dim=50))\n",
    "model.add(SimpleRNN(3, kernel_initializer=initializers.RandomNormal(stddev=0.001)))\n",
    "model.add(Dense(1, activation='sigmoid'))\n",
    "\n",
    "# compiling model\n",
    "model.compile(loss='mean_squared_error', optimizer=RMSprop(learning_rate=1e-4), metrics=['acc'])\n",
    "\n",
    "history = model.fit(x_train, y_train,\n",
    "                    epochs=10,\n",
    "                    batch_size=128,\n",
    "                    validation_split=0.2, \n",
    "                   verbose=1)"
   ]
  },
  {
   "cell_type": "code",
   "execution_count": 22,
   "metadata": {},
   "outputs": [
    {
     "data": {
      "image/png": "[encoded data removed]",
      "text/plain": [
       "<Figure size 432x288 with 1 Axes>"
      ]
     },
     "metadata": {
      "needs_background": "light"
     },
     "output_type": "display_data"
    },
    {
     "data": {
      "image/png": "[encoded data removed]",
      "text/plain": [
       "<Figure size 432x288 with 1 Axes>"
      ]
     },
     "metadata": {
      "needs_background": "light"
     },
     "output_type": "display_data"
    }
   ],
   "source": [
    "acc = history.history['acc']\n",
    "val_acc = history.history['val_acc']\n",
    "loss = history.history['loss']\n",
    "val_loss = history.history['val_loss']\n",
    "\n",
    "epochs = range(len(acc))\n",
    "\n",
    "plt.plot(epochs, acc, 'bo', label='Training acc')\n",
    "plt.plot(epochs, val_acc, 'b', label='Validation acc')\n",
    "plt.title('Training and validation accuracy')\n",
    "plt.legend()\n",
    "\n",
    "plt.figure()\n",
    "\n",
    "plt.plot(epochs, loss, 'bo', label='Training loss')\n",
    "plt.plot(epochs, val_loss, 'b', label='Validation loss')\n",
    "plt.title('Training and validation loss')\n",
    "plt.legend()\n",
    "\n",
    "plt.show()"
   ]
  },
  {
   "cell_type": "code",
   "execution_count": 23,
   "metadata": {},
   "outputs": [
    {
     "name": "stdout",
     "output_type": "stream",
     "text": [
      "acc: 50.54%\n",
      "loss: 0.27\n"
     ]
    }
   ],
   "source": [
    "#Evaluating model performance on test data \n",
    "scores = model.evaluate(x_test, y_test, verbose=0)\n",
    "print(\"%s: %.2f%%\" % (model.metrics_names[1], scores[1]*100))\n",
    "print(\"{}: {}\".format(model.metrics_names[0], round(scores[0], 2)))"
   ]
  },
  {
   "cell_type": "markdown",
   "metadata": {},
   "source": [
    "The performance of the model reduces greatly with a lot of overfitting."
   ]
  },
  {
   "cell_type": "code",
   "execution_count": 24,
   "metadata": {},
   "outputs": [
    {
     "name": "stdout",
     "output_type": "stream",
     "text": [
      "Epoch 1/10\n",
      "157/157 [==============================] - 7s 33ms/step - loss: 0.2482 - acc: 0.5573 - val_loss: 0.2404 - val_acc: 0.6558\n",
      "Epoch 2/10\n",
      "157/157 [==============================] - 5s 32ms/step - loss: 0.2338 - acc: 0.6656 - val_loss: 0.2297 - val_acc: 0.6786\n",
      "Epoch 3/10\n",
      "157/157 [==============================] - 5s 31ms/step - loss: 0.2236 - acc: 0.7051 - val_loss: 0.2283 - val_acc: 0.6638\n",
      "Epoch 4/10\n",
      "157/157 [==============================] - 5s 30ms/step - loss: 0.2156 - acc: 0.7269 - val_loss: 0.2197 - val_acc: 0.6938\n",
      "Epoch 5/10\n",
      "157/157 [==============================] - 5s 32ms/step - loss: 0.2069 - acc: 0.7505 - val_loss: 0.2199 - val_acc: 0.6836\n",
      "Epoch 6/10\n",
      "157/157 [==============================] - 5s 32ms/step - loss: 0.1996 - acc: 0.7663 - val_loss: 0.2112 - val_acc: 0.7102\n",
      "Epoch 7/10\n",
      "157/157 [==============================] - 5s 32ms/step - loss: 0.1919 - acc: 0.7814 - val_loss: 0.2075 - val_acc: 0.7154\n",
      "Epoch 8/10\n",
      "157/157 [==============================] - 5s 33ms/step - loss: 0.1846 - acc: 0.7932 - val_loss: 0.2035 - val_acc: 0.7198\n",
      "Epoch 9/10\n",
      "157/157 [==============================] - 6s 36ms/step - loss: 0.1771 - acc: 0.8087 - val_loss: 0.2020 - val_acc: 0.7196\n",
      "Epoch 10/10\n",
      "157/157 [==============================] - 8s 49ms/step - loss: 0.1704 - acc: 0.8150 - val_loss: 0.2095 - val_acc: 0.6932\n"
     ]
    }
   ],
   "source": [
    "#Changing RNN hidden dimension to 7\n",
    "max_features = 20000\n",
    "\n",
    "(x_train, y_train), (x_test, y_test) = imdb.load_data(num_words=max_features, seed=12)\n",
    "# Padding or truncating the sequences\n",
    "x_train = sequence.pad_sequences(x_train, maxlen=max_len)\n",
    "x_test = sequence.pad_sequences(x_test, maxlen=max_len)\n",
    "\n",
    "model = Sequential()\n",
    "\n",
    "\n",
    "# output embedding dimension of size 50.\n",
    "model.add(Embedding(input_dim=max_features, output_dim=50))\n",
    "model.add(SimpleRNN(7, kernel_initializer=initializers.RandomNormal(stddev=0.001)))\n",
    "model.add(Dense(1, activation='sigmoid'))\n",
    "\n",
    "# compiling model\n",
    "model.compile(loss='mean_squared_error', optimizer=RMSprop(lr=1e-4), metrics=['acc'])\n",
    "\n",
    "history = model.fit(x_train, y_train,\n",
    "                    epochs=10,\n",
    "                    batch_size=128,\n",
    "                    validation_split=0.2, \n",
    "                   verbose=1)"
   ]
  },
  {
   "cell_type": "code",
   "execution_count": 25,
   "metadata": {},
   "outputs": [
    {
     "data": {
      "image/png": "[encoded data removed]",
      "text/plain": [
       "<Figure size 432x288 with 1 Axes>"
      ]
     },
     "metadata": {
      "needs_background": "light"
     },
     "output_type": "display_data"
    },
    {
     "data": {
      "image/png": "[encoded data removed]",
      "text/plain": [
       "<Figure size 432x288 with 1 Axes>"
      ]
     },
     "metadata": {
      "needs_background": "light"
     },
     "output_type": "display_data"
    }
   ],
   "source": [
    "acc = history.history['acc']\n",
    "val_acc = history.history['val_acc']\n",
    "loss = history.history['loss']\n",
    "val_loss = history.history['val_loss']\n",
    "\n",
    "epochs = range(len(acc))\n",
    "\n",
    "plt.plot(epochs, acc, 'bo', label='Training acc')\n",
    "plt.plot(epochs, val_acc, 'b', label='Validation acc')\n",
    "plt.title('Training and validation accuracy')\n",
    "plt.legend()\n",
    "\n",
    "plt.figure()\n",
    "\n",
    "plt.plot(epochs, loss, 'bo', label='Training loss')\n",
    "plt.plot(epochs, val_loss, 'b', label='Validation loss')\n",
    "plt.title('Training and validation loss')\n",
    "plt.legend()\n",
    "\n",
    "plt.show()"
   ]
  },
  {
   "cell_type": "code",
   "execution_count": 26,
   "metadata": {},
   "outputs": [
    {
     "name": "stdout",
     "output_type": "stream",
     "text": [
      "acc: 67.84%\n",
      "loss: 0.21\n"
     ]
    }
   ],
   "source": [
    "#Evaluating model performance on test data \n",
    "scores = model.evaluate(x_test, y_test, verbose=0)\n",
    "print(\"%s: %.2f%%\" % (model.metrics_names[1], scores[1]*100))\n",
    "print(\"{}: {}\".format(model.metrics_names[0], round(scores[0], 2)))"
   ]
  },
  {
   "cell_type": "markdown",
   "metadata": {},
   "source": [
    "Increasing the hidden units to 7 does not seem to have any significant changes."
   ]
  },
  {
   "cell_type": "code",
   "execution_count": 27,
   "metadata": {},
   "outputs": [
    {
     "name": "stdout",
     "output_type": "stream",
     "text": [
      "Epoch 1/10\n",
      "157/157 [==============================] - 7s 34ms/step - loss: 0.2500 - acc: 0.5095 - val_loss: 0.2498 - val_acc: 0.5284\n",
      "Epoch 2/10\n",
      "157/157 [==============================] - 5s 31ms/step - loss: 0.2486 - acc: 0.5503 - val_loss: 0.2476 - val_acc: 0.5302\n",
      "Epoch 3/10\n",
      "157/157 [==============================] - 5s 32ms/step - loss: 0.2398 - acc: 0.5905 - val_loss: 0.2444 - val_acc: 0.5582\n",
      "Epoch 4/10\n",
      "157/157 [==============================] - 5s 32ms/step - loss: 0.2299 - acc: 0.6337 - val_loss: 0.2429 - val_acc: 0.5758\n",
      "Epoch 5/10\n",
      "157/157 [==============================] - 5s 31ms/step - loss: 0.2222 - acc: 0.6607 - val_loss: 0.2427 - val_acc: 0.5874\n",
      "Epoch 6/10\n",
      "157/157 [==============================] - 5s 32ms/step - loss: 0.2142 - acc: 0.6852 - val_loss: 0.2407 - val_acc: 0.5932\n",
      "Epoch 7/10\n",
      "157/157 [==============================] - 5s 32ms/step - loss: 0.2063 - acc: 0.7043 - val_loss: 0.2418 - val_acc: 0.5922\n",
      "Epoch 8/10\n",
      "157/157 [==============================] - 5s 32ms/step - loss: 0.1992 - acc: 0.7182 - val_loss: 0.2436 - val_acc: 0.5886\n",
      "Epoch 9/10\n",
      "157/157 [==============================] - 5s 32ms/step - loss: 0.1922 - acc: 0.7316 - val_loss: 0.2458 - val_acc: 0.5802\n",
      "Epoch 10/10\n",
      "157/157 [==============================] - 5s 33ms/step - loss: 0.1853 - acc: 0.7473 - val_loss: 0.2438 - val_acc: 0.5974\n"
     ]
    }
   ],
   "source": [
    "max_features = 20000\n",
    "\n",
    "(x_train, y_train), (x_test, y_test) = imdb.load_data(num_words=max_features, seed=12)\n",
    "# Padding or truncating the sequences\n",
    "x_train = sequence.pad_sequences(x_train, maxlen=max_len)\n",
    "x_test = sequence.pad_sequences(x_test, maxlen=max_len)\n",
    "\n",
    "model = Sequential()\n",
    "\n",
    "\n",
    "# output embedding dimension of size 50.\n",
    "model.add(Embedding(input_dim=max_features, output_dim=50))\n",
    "model.add(SimpleRNN(10, kernel_initializer=initializers.RandomNormal(stddev=0.001)))\n",
    "model.add(Dense(1, activation='sigmoid'))\n",
    "\n",
    "# compiling model\n",
    "model.compile(loss='mean_squared_error', optimizer=RMSprop(lr=1e-4), metrics=['acc'])\n",
    "\n",
    "history = model.fit(x_train, y_train,\n",
    "                    epochs=10,\n",
    "                    batch_size=128,\n",
    "                    validation_split=0.2, \n",
    "                   verbose=1)"
   ]
  },
  {
   "cell_type": "code",
   "execution_count": 28,
   "metadata": {},
   "outputs": [
    {
     "data": {
      "image/png": "[encoded data removed]",
      "text/plain": [
       "<Figure size 432x288 with 1 Axes>"
      ]
     },
     "metadata": {
      "needs_background": "light"
     },
     "output_type": "display_data"
    },
    {
     "data": {
      "image/png": "[encoded data removed]",
      "text/plain": [
       "<Figure size 432x288 with 1 Axes>"
      ]
     },
     "metadata": {
      "needs_background": "light"
     },
     "output_type": "display_data"
    }
   ],
   "source": [
    "acc = history.history['acc']\n",
    "val_acc = history.history['val_acc']\n",
    "loss = history.history['loss']\n",
    "val_loss = history.history['val_loss']\n",
    "\n",
    "epochs = range(len(acc))\n",
    "\n",
    "plt.plot(epochs, acc, 'bo', label='Training acc')\n",
    "plt.plot(epochs, val_acc, 'b', label='Validation acc')\n",
    "plt.title('Training and validation accuracy')\n",
    "plt.legend()\n",
    "\n",
    "plt.figure()\n",
    "\n",
    "plt.plot(epochs, loss, 'bo', label='Training loss')\n",
    "plt.plot(epochs, val_loss, 'b', label='Validation loss')\n",
    "plt.title('Training and validation loss')\n",
    "plt.legend()\n",
    "\n",
    "plt.show()"
   ]
  },
  {
   "cell_type": "code",
   "execution_count": 29,
   "metadata": {},
   "outputs": [
    {
     "name": "stdout",
     "output_type": "stream",
     "text": [
      "acc: 59.20%\n",
      "loss: 0.25\n"
     ]
    }
   ],
   "source": [
    "#Evaluating model performance on test data \n",
    "scores = model.evaluate(x_test, y_test, verbose=0)\n",
    "print(\"%s: %.2f%%\" % (model.metrics_names[1], scores[1]*100))\n",
    "print(\"{}: {}\".format(model.metrics_names[0], round(scores[0], 2)))"
   ]
  },
  {
   "cell_type": "markdown",
   "metadata": {},
   "source": [
    "When we further increase the hidden units to 10 then accuracy drops and there is high overfitting."
   ]
  },
  {
   "cell_type": "markdown",
   "metadata": {},
   "source": [
    "## Train LSTM and GRU networks"
   ]
  },
  {
   "cell_type": "markdown",
   "metadata": {},
   "source": [
    "\n",
    "14- Build LSTM and GRU networks and compare their performance (accuracy and execution time) with the SimpleRNN. What is your conclusion?"
   ]
  },
  {
   "cell_type": "code",
   "execution_count": 30,
   "metadata": {},
   "outputs": [
    {
     "name": "stdout",
     "output_type": "stream",
     "text": [
      "Epoch 1/10\n",
      "157/157 [==============================] - 15s 80ms/step - loss: 0.1646 - acc: 0.7612 - val_loss: 0.1284 - val_acc: 0.8270\n",
      "Epoch 2/10\n",
      "157/157 [==============================] - 12s 75ms/step - loss: 0.0919 - acc: 0.8765 - val_loss: 0.1133 - val_acc: 0.8422\n",
      "Epoch 3/10\n",
      "157/157 [==============================] - 11s 69ms/step - loss: 0.0706 - acc: 0.9081 - val_loss: 0.1253 - val_acc: 0.8322\n",
      "Epoch 4/10\n",
      "157/157 [==============================] - 11s 72ms/step - loss: 0.0589 - acc: 0.9237 - val_loss: 0.1198 - val_acc: 0.8420\n",
      "Epoch 5/10\n",
      "157/157 [==============================] - 14s 89ms/step - loss: 0.0500 - acc: 0.9390 - val_loss: 0.1265 - val_acc: 0.8334\n",
      "Epoch 6/10\n",
      "157/157 [==============================] - 13s 86ms/step - loss: 0.0437 - acc: 0.9461 - val_loss: 0.1605 - val_acc: 0.8030\n",
      "Epoch 7/10\n",
      "157/157 [==============================] - 17s 106ms/step - loss: 0.0365 - acc: 0.9559 - val_loss: 0.1367 - val_acc: 0.8196\n",
      "Epoch 8/10\n",
      "157/157 [==============================] - 23s 147ms/step - loss: 0.0327 - acc: 0.9596 - val_loss: 0.1559 - val_acc: 0.8174\n",
      "Epoch 9/10\n",
      "157/157 [==============================] - 20s 125ms/step - loss: 0.0286 - acc: 0.9668 - val_loss: 0.1384 - val_acc: 0.8240\n",
      "Epoch 10/10\n",
      "157/157 [==============================] - 17s 110ms/step - loss: 0.0250 - acc: 0.9708 - val_loss: 0.1461 - val_acc: 0.8142\n"
     ]
    }
   ],
   "source": [
    "## Building LSTM network \n",
    "\n",
    "# Number of words to consider as features\n",
    "max_features = 20000\n",
    "# Cut texts after this number of words (among top max_features most common words)\n",
    "maxlen = 80\n",
    "\n",
    "# Load data\n",
    "(x_train, y_train), (x_test, y_test) = imdb.load_data(num_words=max_features, seed=12)\n",
    "\n",
    "# Pad sequences\n",
    "x_train = sequence.pad_sequences(x_train, maxlen=maxlen)\n",
    "x_test = sequence.pad_sequences(x_test, maxlen=maxlen)\n",
    "\n",
    "model = Sequential()\n",
    "model.add(Embedding(max_features, 50))\n",
    "model.add(LSTM(32))\n",
    "model.add(Dense(1, activation='sigmoid'))\n",
    "\n",
    "model.compile(optimizer='rmsprop',\n",
    "              loss='mean_squared_error',\n",
    "              metrics=['acc'])\n",
    "history = model.fit(x_train, y_train,\n",
    "                    epochs=10,\n",
    "                    batch_size=128,\n",
    "                    validation_split=0.2)"
   ]
  },
  {
   "cell_type": "code",
   "execution_count": 31,
   "metadata": {},
   "outputs": [
    {
     "data": {
      "image/png": "[encoded data removed]",
      "text/plain": [
       "<Figure size 432x288 with 1 Axes>"
      ]
     },
     "metadata": {
      "needs_background": "light"
     },
     "output_type": "display_data"
    },
    {
     "data": {
      "image/png": "[encoded data removed]",
      "text/plain": [
       "<Figure size 432x288 with 1 Axes>"
      ]
     },
     "metadata": {
      "needs_background": "light"
     },
     "output_type": "display_data"
    }
   ],
   "source": [
    "acc = history.history['acc']\n",
    "val_acc = history.history['val_acc']\n",
    "loss = history.history['loss']\n",
    "val_loss = history.history['val_loss']\n",
    "\n",
    "epochs = range(len(acc))\n",
    "\n",
    "plt.plot(epochs, acc, 'bo', label='Training acc')\n",
    "plt.plot(epochs, val_acc, 'b', label='Validation acc')\n",
    "plt.title('Training and validation accuracy')\n",
    "plt.legend()\n",
    "\n",
    "plt.figure()\n",
    "\n",
    "plt.plot(epochs, loss, 'bo', label='Training loss')\n",
    "plt.plot(epochs, val_loss, 'b', label='Validation loss')\n",
    "plt.title('Training and validation loss')\n",
    "plt.legend()\n",
    "\n",
    "plt.show()"
   ]
  },
  {
   "cell_type": "code",
   "execution_count": 32,
   "metadata": {},
   "outputs": [
    {
     "name": "stdout",
     "output_type": "stream",
     "text": [
      "acc: 80.45%\n",
      "loss: 0.15\n"
     ]
    }
   ],
   "source": [
    "#Evaluating model performance on test data \n",
    "scores = model.evaluate(x_test, y_test, verbose=0)\n",
    "print(\"%s: %.2f%%\" % (model.metrics_names[1], scores[1]*100))\n",
    "print(\"{}: {}\".format(model.metrics_names[0], round(scores[0], 2)))"
   ]
  },
  {
   "cell_type": "markdown",
   "metadata": {},
   "source": [
    "Using the LSTM network greatly increases the accuracy of model but there is still a lot of overfitting."
   ]
  },
  {
   "cell_type": "code",
   "execution_count": 33,
   "metadata": {},
   "outputs": [
    {
     "name": "stdout",
     "output_type": "stream",
     "text": [
      "Epoch 1/10\n",
      "157/157 [==============================] - 22s 107ms/step - loss: 0.3558 - acc: 0.5012 - val_loss: 0.2511 - val_acc: 0.5258\n",
      "Epoch 2/10\n",
      "157/157 [==============================] - 13s 83ms/step - loss: 0.2346 - acc: 0.6020 - val_loss: 0.2280 - val_acc: 0.6234\n",
      "Epoch 3/10\n",
      "157/157 [==============================] - 15s 98ms/step - loss: 0.2142 - acc: 0.6705 - val_loss: 0.2101 - val_acc: 0.6652\n",
      "Epoch 4/10\n",
      "157/157 [==============================] - 17s 105ms/step - loss: 0.1912 - acc: 0.7161 - val_loss: 0.1915 - val_acc: 0.7048\n",
      "Epoch 5/10\n",
      "157/157 [==============================] - 17s 110ms/step - loss: 0.1686 - acc: 0.7631 - val_loss: 0.1755 - val_acc: 0.7406\n",
      "Epoch 6/10\n",
      "157/157 [==============================] - 16s 104ms/step - loss: 0.1482 - acc: 0.8043 - val_loss: 0.1616 - val_acc: 0.7766\n",
      "Epoch 7/10\n",
      "157/157 [==============================] - 18s 112ms/step - loss: 0.1331 - acc: 0.8322 - val_loss: 0.1528 - val_acc: 0.7936\n",
      "Epoch 8/10\n",
      "157/157 [==============================] - 16s 105ms/step - loss: 0.1213 - acc: 0.8539 - val_loss: 0.1489 - val_acc: 0.8054\n",
      "Epoch 9/10\n",
      "157/157 [==============================] - 16s 104ms/step - loss: 0.1125 - acc: 0.8700 - val_loss: 0.1460 - val_acc: 0.8020\n",
      "Epoch 10/10\n",
      "157/157 [==============================] - 15s 98ms/step - loss: 0.1057 - acc: 0.8813 - val_loss: 0.1400 - val_acc: 0.8156\n"
     ]
    }
   ],
   "source": [
    "model = Sequential()\n",
    "model.add(Embedding(max_features, 50))\n",
    "model.add(GRU(32))\n",
    "model.add(Dense(1))\n",
    "\n",
    "model.compile(optimizer=RMSprop(lr=0.0001), loss='mean_squared_error', metrics=['acc'])\n",
    "\n",
    "history = model.fit(x_train, y_train,\n",
    "                    epochs=10,\n",
    "                    batch_size=128,\n",
    "                    validation_split=0.2)"
   ]
  },
  {
   "cell_type": "code",
   "execution_count": 34,
   "metadata": {},
   "outputs": [
    {
     "data": {
      "image/png": "[encoded data removed]",
      "text/plain": [
       "<Figure size 432x288 with 1 Axes>"
      ]
     },
     "metadata": {
      "needs_background": "light"
     },
     "output_type": "display_data"
    },
    {
     "data": {
      "image/png": "[encoded data removed]",
      "text/plain": [
       "<Figure size 432x288 with 1 Axes>"
      ]
     },
     "metadata": {
      "needs_background": "light"
     },
     "output_type": "display_data"
    }
   ],
   "source": [
    "acc = history.history['acc']\n",
    "val_acc = history.history['val_acc']\n",
    "loss = history.history['loss']\n",
    "val_loss = history.history['val_loss']\n",
    "\n",
    "epochs = range(len(acc))\n",
    "\n",
    "plt.plot(epochs, acc, 'bo', label='Training acc')\n",
    "plt.plot(epochs, val_acc, 'b', label='Validation acc')\n",
    "plt.title('Training and validation accuracy')\n",
    "plt.legend()\n",
    "\n",
    "plt.figure()\n",
    "\n",
    "plt.plot(epochs, loss, 'bo', label='Training loss')\n",
    "plt.plot(epochs, val_loss, 'b', label='Validation loss')\n",
    "plt.title('Training and validation loss')\n",
    "plt.legend()\n",
    "\n",
    "plt.show()"
   ]
  },
  {
   "cell_type": "code",
   "execution_count": 35,
   "metadata": {},
   "outputs": [
    {
     "name": "stdout",
     "output_type": "stream",
     "text": [
      "acc: 81.58%\n",
      "loss: 0.14\n"
     ]
    }
   ],
   "source": [
    "#Evaluating model performance on test data \n",
    "scores = model.evaluate(x_test, y_test, verbose=0)\n",
    "print(\"%s: %.2f%%\" % (model.metrics_names[1], scores[1]*100))\n",
    "print(\"{}: {}\".format(model.metrics_names[0], round(scores[0], 2)))"
   ]
  },
  {
   "cell_type": "markdown",
   "metadata": {},
   "source": [
    "Using the GRU network increases the accuracy, as well as, there is less overfitting. "
   ]
  },
  {
   "cell_type": "code",
   "execution_count": 36,
   "metadata": {},
   "outputs": [
    {
     "name": "stdout",
     "output_type": "stream",
     "text": [
      "Epoch 1/10\n",
      "157/157 [==============================] - 31s 149ms/step - loss: 0.1651 - acc: 0.7555 - val_loss: 0.1194 - val_acc: 0.8336\n",
      "Epoch 2/10\n",
      "157/157 [==============================] - 33s 214ms/step - loss: 0.0950 - acc: 0.8712 - val_loss: 0.1142 - val_acc: 0.8446\n",
      "Epoch 3/10\n",
      "157/157 [==============================] - 36s 229ms/step - loss: 0.0724 - acc: 0.9056 - val_loss: 0.1319 - val_acc: 0.8236\n",
      "Epoch 4/10\n",
      "157/157 [==============================] - 29s 183ms/step - loss: 0.0591 - acc: 0.9239 - val_loss: 0.1186 - val_acc: 0.8392\n",
      "Epoch 5/10\n",
      "157/157 [==============================] - 30s 188ms/step - loss: 0.0499 - acc: 0.9365 - val_loss: 0.1297 - val_acc: 0.8246\n",
      "Epoch 6/10\n",
      "157/157 [==============================] - 30s 191ms/step - loss: 0.0422 - acc: 0.9470 - val_loss: 0.1487 - val_acc: 0.8000\n",
      "Epoch 7/10\n",
      "157/157 [==============================] - 30s 189ms/step - loss: 0.0356 - acc: 0.9549 - val_loss: 0.1317 - val_acc: 0.8234\n",
      "Epoch 8/10\n",
      "157/157 [==============================] - 29s 187ms/step - loss: 0.0296 - acc: 0.9633 - val_loss: 0.1836 - val_acc: 0.7834\n",
      "Epoch 9/10\n",
      "157/157 [==============================] - 30s 188ms/step - loss: 0.0250 - acc: 0.9699 - val_loss: 0.1419 - val_acc: 0.8232\n",
      "Epoch 10/10\n",
      "157/157 [==============================] - 30s 189ms/step - loss: 0.0218 - acc: 0.9743 - val_loss: 0.1477 - val_acc: 0.8238\n"
     ]
    }
   ],
   "source": [
    "## Building LSTM model with Bidirectional layer\n",
    "\n",
    "model = Sequential()\n",
    "model.add(Embedding(max_features, 50))\n",
    "model.add(Bidirectional(LSTM(32)))\n",
    "model.add(Dense(1, activation='sigmoid'))\n",
    "\n",
    "model.compile(optimizer='rmsprop',\n",
    "              loss='mean_squared_error',\n",
    "              metrics=['acc'])\n",
    "history = model.fit(x_train, y_train,\n",
    "                    epochs=10,\n",
    "                    batch_size=128,\n",
    "                    validation_split=0.2)"
   ]
  },
  {
   "cell_type": "code",
   "execution_count": 37,
   "metadata": {},
   "outputs": [
    {
     "data": {
      "image/png": "[encoded data removed]",
      "text/plain": [
       "<Figure size 432x288 with 1 Axes>"
      ]
     },
     "metadata": {
      "needs_background": "light"
     },
     "output_type": "display_data"
    },
    {
     "data": {
      "image/png": "[encoded data removed]",
      "text/plain": [
       "<Figure size 432x288 with 1 Axes>"
      ]
     },
     "metadata": {
      "needs_background": "light"
     },
     "output_type": "display_data"
    }
   ],
   "source": [
    "acc = history.history['acc']\n",
    "val_acc = history.history['val_acc']\n",
    "loss = history.history['loss']\n",
    "val_loss = history.history['val_loss']\n",
    "\n",
    "epochs = range(len(acc))\n",
    "\n",
    "plt.plot(epochs, acc, 'bo', label='Training acc')\n",
    "plt.plot(epochs, val_acc, 'b', label='Validation acc')\n",
    "plt.title('Training and validation accuracy')\n",
    "plt.legend()\n",
    "\n",
    "plt.figure()\n",
    "\n",
    "plt.plot(epochs, loss, 'bo', label='Training loss')\n",
    "plt.plot(epochs, val_loss, 'b', label='Validation loss')\n",
    "plt.title('Training and validation loss')\n",
    "plt.legend()\n",
    "\n",
    "plt.show()"
   ]
  },
  {
   "cell_type": "code",
   "execution_count": 38,
   "metadata": {},
   "outputs": [
    {
     "name": "stdout",
     "output_type": "stream",
     "text": [
      "acc: 81.29%\n",
      "loss: 0.15\n"
     ]
    }
   ],
   "source": [
    "#Evaluating model performance on test data \n",
    "scores = model.evaluate(x_test, y_test, verbose=0)\n",
    "print(\"%s: %.2f%%\" % (model.metrics_names[1], scores[1]*100))\n",
    "print(\"{}: {}\".format(model.metrics_names[0], round(scores[0], 2)))"
   ]
  },
  {
   "cell_type": "markdown",
   "metadata": {},
   "source": [
    "Adding the Bidirectional layer to the LSTM network appears to provide no added advantage."
   ]
  },
  {
   "cell_type": "code",
   "execution_count": 39,
   "metadata": {},
   "outputs": [
    {
     "name": "stdout",
     "output_type": "stream",
     "text": [
      "Epoch 1/10\n",
      "157/157 [==============================] - 41s 186ms/step - loss: 0.3343 - acc: 0.5079 - val_loss: 0.2441 - val_acc: 0.5724\n",
      "Epoch 2/10\n",
      "157/157 [==============================] - 27s 173ms/step - loss: 0.2370 - acc: 0.6095 - val_loss: 0.2318 - val_acc: 0.6300\n",
      "Epoch 3/10\n",
      "157/157 [==============================] - 27s 172ms/step - loss: 0.2185 - acc: 0.6792 - val_loss: 0.2123 - val_acc: 0.6766\n",
      "Epoch 4/10\n",
      "157/157 [==============================] - 28s 180ms/step - loss: 0.1902 - acc: 0.7372 - val_loss: 0.1834 - val_acc: 0.7270\n",
      "Epoch 5/10\n",
      "157/157 [==============================] - 28s 176ms/step - loss: 0.1560 - acc: 0.7897 - val_loss: 0.1587 - val_acc: 0.7770\n",
      "Epoch 6/10\n",
      "157/157 [==============================] - 28s 178ms/step - loss: 0.1332 - acc: 0.8328 - val_loss: 0.1463 - val_acc: 0.7974\n",
      "Epoch 7/10\n",
      "157/157 [==============================] - 29s 186ms/step - loss: 0.1180 - acc: 0.8619 - val_loss: 0.1391 - val_acc: 0.8200\n",
      "Epoch 8/10\n",
      "157/157 [==============================] - 28s 180ms/step - loss: 0.1061 - acc: 0.8798 - val_loss: 0.1386 - val_acc: 0.8246\n",
      "Epoch 9/10\n",
      "157/157 [==============================] - 25s 160ms/step - loss: 0.0976 - acc: 0.8935 - val_loss: 0.1346 - val_acc: 0.8314\n",
      "Epoch 10/10\n",
      "157/157 [==============================] - 19s 123ms/step - loss: 0.0910 - acc: 0.9052 - val_loss: 0.1290 - val_acc: 0.8392\n"
     ]
    }
   ],
   "source": [
    "model = Sequential()\n",
    "model.add(Embedding(max_features, 50))\n",
    "model.add(Bidirectional(GRU(32)))\n",
    "model.add(Dense(1))\n",
    "\n",
    "model.compile(optimizer=RMSprop(lr=0.0001), loss='mean_squared_error', metrics=['acc'])\n",
    "\n",
    "history = model.fit(x_train, y_train,\n",
    "                    epochs=10,\n",
    "                    batch_size=128,\n",
    "                    validation_split=0.2)"
   ]
  },
  {
   "cell_type": "code",
   "execution_count": 40,
   "metadata": {},
   "outputs": [
    {
     "data": {
      "image/png": "[encoded data removed]",
      "text/plain": [
       "<Figure size 432x288 with 1 Axes>"
      ]
     },
     "metadata": {
      "needs_background": "light"
     },
     "output_type": "display_data"
    },
    {
     "data": {
      "image/png": "[encoded data removed]",
      "text/plain": [
       "<Figure size 432x288 with 1 Axes>"
      ]
     },
     "metadata": {
      "needs_background": "light"
     },
     "output_type": "display_data"
    }
   ],
   "source": [
    "acc = history.history['acc']\n",
    "val_acc = history.history['val_acc']\n",
    "loss = history.history['loss']\n",
    "val_loss = history.history['val_loss']\n",
    "\n",
    "epochs = range(len(acc))\n",
    "\n",
    "plt.plot(epochs, acc, 'bo', label='Training acc')\n",
    "plt.plot(epochs, val_acc, 'b', label='Validation acc')\n",
    "plt.title('Training and validation accuracy')\n",
    "plt.legend()\n",
    "\n",
    "plt.figure()\n",
    "\n",
    "plt.plot(epochs, loss, 'bo', label='Training loss')\n",
    "plt.plot(epochs, val_loss, 'b', label='Validation loss')\n",
    "plt.title('Training and validation loss')\n",
    "plt.legend()\n",
    "\n",
    "plt.show()"
   ]
  },
  {
   "cell_type": "code",
   "execution_count": 41,
   "metadata": {},
   "outputs": [
    {
     "name": "stdout",
     "output_type": "stream",
     "text": [
      "acc: 83.51%\n",
      "loss: 0.13\n"
     ]
    }
   ],
   "source": [
    "#Evaluating model performance on test data \n",
    "scores = model.evaluate(x_test, y_test, verbose=0)\n",
    "print(\"%s: %.2f%%\" % (model.metrics_names[1], scores[1]*100))\n",
    "print(\"{}: {}\".format(model.metrics_names[0], round(scores[0], 2)))"
   ]
  },
  {
   "cell_type": "markdown",
   "metadata": {},
   "source": [
    "Adding Bidirectional layer to GRU model did not appear to have provided any major advantages. It shows a small increase in accuracy on the test data. "
   ]
  },
  {
   "cell_type": "code",
   "execution_count": null,
   "metadata": {},
   "outputs": [],
   "source": []
  }
 ],
 "metadata": {
  "kernelspec": {
   "display_name": "Python 3 (ipykernel)",
   "language": "python",
   "name": "python3"
  },
  "language_info": {
   "codemirror_mode": {
    "name": "ipython",
    "version": 3
   },
   "file_extension": ".py",
   "mimetype": "text/x-python",
   "name": "python",
   "nbconvert_exporter": "python",
   "pygments_lexer": "ipython3",
   "version": "3.7.7"
  },
  "toc": {
   "base_numbering": 1,
   "nav_menu": {},
   "number_sections": true,
   "sideBar": true,
   "skip_h1_title": false,
   "title_cell": "Table of Contents",
   "title_sidebar": "Contents",
   "toc_cell": false,
   "toc_position": {},
   "toc_section_display": true,
   "toc_window_display": false
  },
  "varInspector": {
   "cols": {
    "lenName": 16,
    "lenType": 16,
    "lenVar": 40
   },
   "kernels_config": {
    "python": {
     "delete_cmd_postfix": "",
     "delete_cmd_prefix": "del ",
     "library": "var_list.py",
     "varRefreshCmd": "print(var_dic_list())"
    },
    "r": {
     "delete_cmd_postfix": ") ",
     "delete_cmd_prefix": "rm(",
     "library": "var_list.r",
     "varRefreshCmd": "cat(var_dic_list()) "
    }
   },
   "types_to_exclude": [
    "module",
    "function",
    "builtin_function_or_method",
    "instance",
    "_Feature"
   ],
   "window_display": true
  }
 },
 "nbformat": 4,
 "nbformat_minor": 1
}
